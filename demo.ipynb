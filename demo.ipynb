{
 "cells": [
  {
   "cell_type": "code",
   "execution_count": 4,
   "metadata": {},
   "outputs": [
    {
     "name": "stdout",
     "output_type": "stream",
     "text": [
      "Passage text: z function to get shared prefix of s and its suffixes loop through i from one to n keep track of left and right so far if i less than right set z i to min right minus i and z at i minus left while i plus z i under n and s at z i equals s at i plus z i increment z at i if i plus z i past right then set l to i set r to i plus z i\n",
      "Song text: Listen Jesus I don't like what I see\n",
      "All I ask is that you listen to me\n",
      "And remember\n",
      "I've been your right hand man all along\n",
      "You have set them all on fire\n",
      "They think they've found the new Messiah\n",
      "And they'll hurt you when they find they're wrong\n",
      "I remember when this whole thing began\n",
      "No talk of God then we called you a man\n",
      "And believe me\n",
      "my admiration for you hasn't died\n",
      "But every word you say today\n",
      "Gets twisted 'round some other way\n",
      "And they'll hurt you if they think you've lied\n",
      "Nazareth your famous son\n",
      "should have stayed a great unknown\n",
      "Like his father carving wood He'd have made good\n",
      "Tables chairs and oaken chests\n",
      "would have suited Jesus best\n",
      "He'd have caused nobody harm\n",
      "no one alarm\n",
      "Listen Jesus do you care for your race\n",
      "Don't you see we must keep in our place\n",
      "We are occupied have you forgotten how put down we are\n",
      "Best soln is [12, 30, 41, 56, 69, 86] with cost 369\n"
     ]
    },
    {
     "data": {
      "text/plain": [
       "['z function to get shared prefix of s and its suffixes loop through',\n",
       " 'i from one to n keep track of left and right so far if i less than right',\n",
       " 'set z i to min right minus i and z at',\n",
       " 'i minus left while i plus z i under n and s at z i',\n",
       " 'equals s at i plus z i increment z at i if i',\n",
       " 'plus z i past right then set l to i set r to i plus z i']"
      ]
     },
     "execution_count": 4,
     "metadata": {},
     "output_type": "execute_result"
    }
   ],
   "source": [
    "from dp import MnemonicFinder\n",
    "\n",
    "aug_syllable_counts = {\n",
    "    \"suffixes\": 3,\n",
    "    \"oaken\": 2,\n",
    "}\n",
    "with open(\"songs/heaven-on-their-minds-2.txt\", \"r\") as f:\n",
    "   song_text = f.read()\n",
    "with open(\"passages/z-algo-pseudocode.txt\", \"r\") as f:\n",
    "   passage_text = f.read()\n",
    "\n",
    "mf = MnemonicFinder(\n",
    "   passage_text=passage_text,\n",
    "    song_text=song_text,\n",
    "    aug_syllable_counts=aug_syllable_counts,\n",
    ")\n",
    "mf.align()"
   ]
  },
  {
   "cell_type": "code",
   "execution_count": 5,
   "metadata": {},
   "outputs": [
    {
     "name": "stdout",
     "output_type": "stream",
     "text": [
      "Best soln is [7, 15, 19, 28, 36, 43, 51, 61, 70, 75, 86] with cost 4\n"
     ]
    },
    {
     "data": {
      "text/plain": [
       "['z function to get shared prefix of s',\n",
       " 'and its suffixes loop through i from one',\n",
       " 'to n keep track',\n",
       " 'of left and right so far if i less',\n",
       " 'than right set z i to min right',\n",
       " 'minus i and z at i minus',\n",
       " 'left while i plus z i under n',\n",
       " 'and s at z i equals s at i plus',\n",
       " 'z i increment z at i if i plus',\n",
       " 'z i past right then',\n",
       " 'set l to i set r to i plus z i']"
      ]
     },
     "execution_count": 5,
     "metadata": {},
     "output_type": "execute_result"
    }
   ],
   "source": [
    "mf.align(max_lines=100)"
   ]
  },
  {
   "cell_type": "code",
   "execution_count": null,
   "metadata": {},
   "outputs": [],
   "source": []
  }
 ],
 "metadata": {
  "kernelspec": {
   "display_name": "musical_mnemonics",
   "language": "python",
   "name": "python3"
  },
  "language_info": {
   "codemirror_mode": {
    "name": "ipython",
    "version": 3
   },
   "file_extension": ".py",
   "mimetype": "text/x-python",
   "name": "python",
   "nbconvert_exporter": "python",
   "pygments_lexer": "ipython3",
   "version": "3.9.18"
  }
 },
 "nbformat": 4,
 "nbformat_minor": 2
}

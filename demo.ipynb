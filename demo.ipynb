{
 "cells": [
  {
   "cell_type": "code",
   "execution_count": 33,
   "metadata": {},
   "outputs": [
    {
     "name": "stdout",
     "output_type": "stream",
     "text": [
      "Passage text: z function to get shared prefix\n",
      "of s\n",
      "and its\n",
      "suffixes\n",
      "\n",
      "loop through i \n",
      "from one to n\n",
      "keep track of left and right so far\n",
      "if i less than right\n",
      "set z i to min\n",
      "right minus i\n",
      "and z at i minus left\n",
      "while i plus z i under n\n",
      "and s at z i equals \n",
      "s at i plus z i\n",
      "increment z at i\n",
      "if i plus z i past right\n",
      "then set l to i\n",
      "set r to i plus z i\n",
      "Song text: Lets get down to business\n",
      "To defeat the Huns\n",
      "Did they send me daughters\n",
      "When I asked for sons\n",
      "You're the saddest bunch I ever met\n",
      "But you can bet before we're through\n",
      "Mister I'll make a man out of you\n",
      "Tranquil as a forest\n",
      "But on fire within\n",
      "Once you find your center\n",
      "You are sure to win\n",
      "You're a spineless pale pathetic lot\n",
      "And you haven't got a clue\n",
      "Somehow I'll make a man out of you\n"
     ]
    }
   ],
   "source": [
    "from dp import MnemonicFinder\n",
    "\n",
    "aug_syllable_counts = {\n",
    "   \"suffixes\": 3,\n",
    "   \"oaken\": 2,\n",
    "   \"worser\": 2,\n",
    "   \"gon'\": 1,\n",
    "   \"devotin'\": 3,\n",
    "   \"floatin'\": 2,\n",
    "   \"hakuna\": 3,\n",
    "   \"matata\": 3,\n",
    "   \"problemfree\": 3,\n",
    "   \"huns\": 1,\n",
    "}\n",
    "# with open(\"songs/heaven-on-their-minds-2.txt\", \"r\") as f:\n",
    "# with open(\"songs/heaven-on-their-minds-1.txt\", \"r\") as f:\n",
    "# with open(\"songs/jesus-christ-superstar-1.txt\", \"r\") as f:\n",
    "# with open(\"songs/under-the-sea-1.txt\", \"r\") as f:\n",
    "# with open(\"songs/hakuna-matata.txt\", \"r\") as f:\n",
    "with open(\"songs/man-out-of-you.txt\", \"r\") as f:\n",
    "   song_text = f.read()\n",
    "with open(\"passages/z-algo-pseudocode.txt\", \"r\") as f:\n",
    "   passage_text = f.read()\n",
    "\n",
    "mf = MnemonicFinder(\n",
    "   passage_text=passage_text,\n",
    "    song_text=song_text,\n",
    "    aug_syllable_counts=aug_syllable_counts,\n",
    ")"
   ]
  },
  {
   "cell_type": "code",
   "execution_count": 34,
   "metadata": {},
   "outputs": [
    {
     "name": "stdout",
     "output_type": "stream",
     "text": [
      "Best soln is [0, 2, 5, 6, 7, 9, 11, 12, 13, 14, 15, 17, 18] with cost 30\n",
      "[0, 1, 3, 6, 7, 8, 10, 12, 13, 14, 15, 16, 18, 19]\n",
      "z function to get shared prefix 2\n",
      "of s and its -1\n",
      "suffixes  loop through i  0\n",
      "from one to n -1\n",
      "keep track of left and right so far -1\n",
      "if i less than right set z i to min 2\n",
      "right minus i and z at i minus left 2\n",
      "while i plus z i under n 2\n",
      "and s at z i equals  1\n",
      "s at i plus z i 0\n",
      "increment z at i 1\n",
      "if i plus z i past right then set l to i 3\n",
      "set r to i plus z i 0\n"
     ]
    }
   ],
   "source": [
    "mf.align()\n",
    "mf.display_soln()"
   ]
  },
  {
   "cell_type": "code",
   "execution_count": null,
   "metadata": {},
   "outputs": [],
   "source": []
  }
 ],
 "metadata": {
  "kernelspec": {
   "display_name": "musical_mnemonics",
   "language": "python",
   "name": "python3"
  },
  "language_info": {
   "codemirror_mode": {
    "name": "ipython",
    "version": 3
   },
   "file_extension": ".py",
   "mimetype": "text/x-python",
   "name": "python",
   "nbconvert_exporter": "python",
   "pygments_lexer": "ipython3",
   "version": "3.9.18"
  }
 },
 "nbformat": 4,
 "nbformat_minor": 2
}
